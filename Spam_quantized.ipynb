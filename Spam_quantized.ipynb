{
  "nbformat": 4,
  "nbformat_minor": 2,
  "metadata": {
    "colab": {
      "provenance": []
    },
    "kernelspec": {
      "name": "python3",
      "display_name": "Python 3"
    },
    "language_info": {
      "name": "python"
    }
  },
  "cells": [
    {
      "cell_type": "code",
      "execution_count": null,
      "source": [
        "!pip install -U transformers datasets huggingface_hub accelerate transformers[torch] evaluate peft --quiet\r\n",
        "\r\n",
        "from datasets import load_dataset, concatenate_datasets, Dataset, ClassLabel, load_from_disk, load_metric\r\n",
        "from transformers import AutoModelForSequenceClassification, DataCollatorWithPadding, TrainingArguments, Trainer, AutoTokenizer\r\n",
        "import numpy as np\r\n",
        "import matplotlib.pyplot as plt\r\n",
        "import accelerate\r\n",
        "import transformers"
      ],
      "outputs": [],
      "metadata": {
        "colab": {
          "base_uri": "https://localhost:8080/"
        },
        "id": "bXW3tdw405bP",
        "outputId": "c851506f-a4d6-49c9-ed37-539f2cb8a395"
      }
    },
    {
      "cell_type": "code",
      "execution_count": null,
      "source": [
        "output_dir = \"/content/drive/MyDrive/Spam detection/Model/checkpoint-12748\"\r\n",
        "\r\n",
        "tokenizer = AutoTokenizer.from_pretrained(output_dir)\r\n",
        "data_collator = DataCollatorWithPadding(tokenizer=tokenizer)\r\n",
        "model = AutoModelForSequenceClassification.from_pretrained(output_dir, num_labels=2)"
      ],
      "outputs": [],
      "metadata": {
        "id": "BAtJrIvb1Jr7"
      }
    },
    {
      "cell_type": "code",
      "execution_count": null,
      "source": [
        "model.eval()"
      ],
      "outputs": [],
      "metadata": {
        "colab": {
          "base_uri": "https://localhost:8080/"
        },
        "id": "gSGrl2ot2cV5",
        "outputId": "89e5f94d-b7f8-4b01-90cb-f177a927206b"
      }
    },
    {
      "cell_type": "code",
      "execution_count": null,
      "source": [
        "import torch\r\n",
        "\r\n",
        "examples = [\r\n",
        "    {'text': 'این تست متن فارسی غیر اسپم است.', 'label': 0},\r\n",
        "    {'text': 'خرید هاست لینوکس ایران', 'label': 1},\r\n",
        "    {'text': 'ترجمه تخصصی و فنی به آلمانی: رویکردها و استراتژی‌ها', 'label': 0},\r\n",
        "    {'text': 'فایلهای پرکاربرد و آموزشی و با کیفیت برای استفاده دانشجویان وتحقیقات علمی و پژوهشی', 'label': 1},\r\n",
        "    {'text': 'فرصت‌های تحصیل رایگان در اروپا: بورس‌های تحصیلی به عنوان پلی به دسترسی به تعلیمات برتر', 'label': 1},\r\n",
        "    {'text': 'امروز ساعت 6:45 از خواب بیدار شدم و از همون لحظه حوصله هیچکس رو ندارم :|', 'label': 0},\r\n",
        "    {'text': '''اَلا یا اَیُّهَا السّاقی اَدِرْ کَأسَاً و ناوِلْها که عشق آسان نمود اوّل ولی افتاد مشکل‌ه''', 'label': 0},\r\n",
        "    {'text': 'سخنگوی شورای امنیت ملی کاخ سفید گفت که این کشور به ایران پیام داده که نمی‌خواهد شاهد گسترش درگیری در منطقه باشد.', 'label': 0},\r\n",
        "    {'text': 'سوالات استخدامی علوم پزشکی و بیمارستانها 1402 ,سوالات استخدامی وزارت بهداشت+سوالات استخدامی بیمارستان 1402- نمونه سوالات استخدامی رایگان,', 'label': 1},\r\n",
        "    {'text': ' روند رانندگی بی صدا، بدون سر و صدای غیر عادی، با ظاهری بسیارشیک و جمع و جور است و دید راننده را محدود نمی کند. توربین این دستگاه در طول روز برای پخش عود می چرخد ترکیبی قوی از آلیاژ با مقاومت بالا و سرامیک طبیعی، بدون ترس از قرار گرفتن در معرض آفتاب و در تابستان بسیار قوی کار میکند.قیمت این محصول...تومان', 'label': 1},\r\n",
        "    {'text': 'DeciLM-7B: The Fastest and Most Accurate 7B-Parameter LLM to Date', 'label': 0},\r\n",
        "    {'text': 'Telecom Industry Is Mad Because the FCC Might Examine High Broadband Prices', 'label': 0},\r\n",
        "    {'text': 'Well, here is hope that this will be a first step in bringing US internet access to at least something comparable to Balkans. ', 'label': 0},\r\n",
        "    {'text': 'Agree to notifications to allow news feed', 'label': 1},\r\n",
        "    {'text': '6 Ways to Boost Your Coffee with Vitamins and Antioxidants', 'label': 1},\r\n",
        "    {'text': 'The section is not fundamental to understand the rest. It explains in brief how numbers are represented in computers. Since quantization is about going from one representation to another, it can be useful to have some basics, but it is definitely not mandatory.', 'label': 0},\r\n",
        "    {'text': 'پیراهن پاییزه مردانه مدل Sitro (سرمه ای)', 'label': 1},\r\n",
        "    {'text': 'دانلود انیمه آکوداما درایو با زیرنویس فارسی بدون سانسور رایگان', 'label': 1},\r\n",
        "    {'text': 'منتظرالمهدی۳۱۳', 'label': 0},\r\n",
        "    {'text': 'ارتش پاکستان در پاسخ به حملات موشکی جمهوری اسلامی ایران به خاک خود، نقاطی را در خاک ایران مورد حمله موشکی قرار داد.', 'label': 0}\r\n",
        "]\r\n",
        "\r\n",
        "for example in examples:\r\n",
        "  print('*' * 40)\r\n",
        "  print('Text:', example['text'], '\\n')\r\n",
        "\r\n",
        "  inputs = tokenizer(example['text'], return_tensors=\"pt\")\r\n",
        "  inputs = {name: tensor for name, tensor in inputs.items()}\r\n",
        "\r\n",
        "  with torch.no_grad():\r\n",
        "    logits = model(**inputs).logits\r\n",
        "\r\n",
        "  print('Ref:', {0: 'Ham', 1: 'Spam'}[example['label']])\r\n",
        "  print('Model:', {0: 'Ham', 1: 'Spam'}[logits.argmax().item()])\r\n",
        "  print('Ham confidence:', logits.softmax(-1)[0][0].item())\r\n",
        "  print('Spam confidence:', logits.softmax(-1)[0][1].item())"
      ],
      "outputs": [],
      "metadata": {
        "colab": {
          "base_uri": "https://localhost:8080/"
        },
        "id": "N4FkYbxC2iPt",
        "outputId": "bd874232-8d08-4ced-d0d3-73f8e7893c36"
      }
    },
    {
      "cell_type": "code",
      "execution_count": null,
      "source": [
        "quantized_model = torch.quantization.quantize_dynamic(\n",
        "    model, {torch.nn.Linear}, dtype=torch.qint8\n",
        ")\n",
        "print(quantized_model)"
      ],
      "outputs": [],
      "metadata": {
        "colab": {
          "base_uri": "https://localhost:8080/"
        },
        "id": "BGisIoa55ckv",
        "outputId": "fa3eb548-7d8c-44d8-b90c-dbb4372d68d4"
      }
    },
    {
      "cell_type": "code",
      "execution_count": null,
      "source": [
        "import os\n",
        "\n",
        "\n",
        "def print_size_of_model(model):\n",
        "    torch.save(model.state_dict(), \"temp.p\")\n",
        "    print('Size (MB):', os.path.getsize(\"temp.p\")/1e6)\n",
        "    os.remove('temp.p')\n",
        "\n",
        "print_size_of_model(model)\n",
        "print_size_of_model(quantized_model)"
      ],
      "outputs": [],
      "metadata": {
        "id": "Pa6zrQ3_6nml",
        "outputId": "41e06fc0-1376-4b30-f1b0-fa28319935ff",
        "colab": {
          "base_uri": "https://localhost:8080/"
        }
      }
    },
    {
      "cell_type": "code",
      "execution_count": null,
      "source": [
        "import torch\n",
        "\n",
        "examples = [\n",
        "    {'text': 'این تست متن فارسی غیر اسپم است.', 'label': 0},\n",
        "    {'text': 'خرید هاست لینوکس ایران', 'label': 1},\n",
        "    {'text': 'ترجمه تخصصی و فنی به آلمانی: رویکردها و استراتژی‌ها', 'label': 0},\n",
        "    {'text': 'فایلهای پرکاربرد و آموزشی و با کیفیت برای استفاده دانشجویان وتحقیقات علمی و پژوهشی', 'label': 1},\n",
        "    {'text': 'فرصت‌های تحصیل رایگان در اروپا: بورس‌های تحصیلی به عنوان پلی به دسترسی به تعلیمات برتر', 'label': 1},\n",
        "    {'text': 'امروز ساعت 6:45 از خواب بیدار شدم و از همون لحظه حوصله هیچکس رو ندارم :|', 'label': 0},\n",
        "    {'text': '''اَلا یا اَیُّهَا السّاقی اَدِرْ کَأسَاً و ناوِلْها که عشق آسان نمود اوّل ولی افتاد مشکل‌ه''', 'label': 0},\n",
        "    {'text': 'سخنگوی شورای امنیت ملی کاخ سفید گفت که این کشور به ایران پیام داده که نمی‌خواهد شاهد گسترش درگیری در منطقه باشد.', 'label': 0},\n",
        "    {'text': 'سوالات استخدامی علوم پزشکی و بیمارستانها 1402 ,سوالات استخدامی وزارت بهداشت+سوالات استخدامی بیمارستان 1402- نمونه سوالات استخدامی رایگان,', 'label': 1},\n",
        "    {'text': ' روند رانندگی بی صدا، بدون سر و صدای غیر عادی، با ظاهری بسیارشیک و جمع و جور است و دید راننده را محدود نمی کند. توربین این دستگاه در طول روز برای پخش عود می چرخد ترکیبی قوی از آلیاژ با مقاومت بالا و سرامیک طبیعی، بدون ترس از قرار گرفتن در معرض آفتاب و در تابستان بسیار قوی کار میکند.قیمت این محصول...تومان', 'label': 1},\n",
        "    {'text': 'DeciLM-7B: The Fastest and Most Accurate 7B-Parameter LLM to Date', 'label': 0},\n",
        "    {'text': 'Telecom Industry Is Mad Because the FCC Might Examine High Broadband Prices', 'label': 0},\n",
        "    {'text': 'Well, here is hope that this will be a first step in bringing US internet access to at least something comparable to Balkans. ', 'label': 0},\n",
        "    {'text': 'Agree to notifications to allow news feed', 'label': 1},\n",
        "    {'text': '6 Ways to Boost Your Coffee with Vitamins and Antioxidants', 'label': 1},\n",
        "    {'text': 'The section is not fundamental to understand the rest. It explains in brief how numbers are represented in computers. Since quantization is about going from one representation to another, it can be useful to have some basics, but it is definitely not mandatory.', 'label': 0},\n",
        "    {'text': 'پیراهن پاییزه مردانه مدل Sitro (سرمه ای)', 'label': 1},\n",
        "    {'text': 'دانلود انیمه آکوداما درایو با زیرنویس فارسی بدون سانسور رایگان', 'label': 1},\n",
        "    {'text': 'منتظرالمهدی۳۱۳', 'label': 0},\n",
        "    {'text': 'ارتش پاکستان در پاسخ به حملات موشکی جمهوری اسلامی ایران به خاک خود، نقاطی را در خاک ایران مورد حمله موشکی قرار داد.', 'label': 0}\n",
        "]\n",
        "\n",
        "for example in examples:\n",
        "  print('*' * 40)\n",
        "  print('Text:', example['text'], '\\n')\n",
        "\n",
        "  inputs = tokenizer(example['text'], return_tensors=\"pt\")\n",
        "  inputs = {name: tensor for name, tensor in inputs.items()}\n",
        "\n",
        "  with torch.no_grad():\n",
        "    logits = quantized_model(**inputs).logits\n",
        "\n",
        "  print('Ref:', {0: 'Ham', 1: 'Spam'}[example['label']])\n",
        "  print('Model:', {0: 'Ham', 1: 'Spam'}[logits.argmax().item()])\n",
        "  print('Ham confidence:', logits.softmax(-1)[0][0].item())\n",
        "  print('Spam confidence:', logits.softmax(-1)[0][1].item())"
      ],
      "outputs": [],
      "metadata": {
        "colab": {
          "base_uri": "https://localhost:8080/"
        },
        "id": "YSyjtd717S3V",
        "outputId": "38031940-1326-4cc7-94e2-31cc3ba57ad0"
      }
    }
  ]
}