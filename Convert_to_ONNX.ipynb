{
  "nbformat": 4,
  "nbformat_minor": 2,
  "metadata": {
    "colab": {
      "provenance": [],
      "gpuType": "T4"
    },
    "kernelspec": {
      "name": "python3",
      "display_name": "Python 3"
    },
    "language_info": {
      "name": "python"
    },
    "accelerator": "GPU",
    "widgets": {
      "application/vnd.jupyter.widget-state+json": {
        "d4d7e3946f1a4890a7f0b57eca768b36": {
          "model_module": "@jupyter-widgets/output",
          "model_name": "OutputModel",
          "model_module_version": "1.0.0",
          "state": {
            "_dom_classes": [],
            "_model_module": "@jupyter-widgets/output",
            "_model_module_version": "1.0.0",
            "_model_name": "OutputModel",
            "_view_count": null,
            "_view_module": "@jupyter-widgets/output",
            "_view_module_version": "1.0.0",
            "_view_name": "OutputView",
            "layout": "IPY_MODEL_e614c748cd1d415ba202f1078c0b9287",
            "msg_id": "",
            "outputs": [
              {
                "output_type": "display_data",
                "data": {
                  "text/plain": "Applying Weight Compression \u001b[38;2;114;156;31m━━━━━━━━━━━━━━━━━━━━━━━━━━━━━━━━━━━━━━━━━━━━━━━━━━━━━━━━\u001b[0m \u001b[35m100%\u001b[0m \u001b[38;2;0;104;181m40/40\u001b[0m • \u001b[38;2;0;104;181m0:00:00\u001b[0m • \u001b[38;2;0;104;181m0:00:00\u001b[0m\n",
                  "text/html": "<pre style=\"white-space:pre;overflow-x:auto;line-height:normal;font-family:Menlo,'DejaVu Sans Mono',consolas,'Courier New',monospace\">Applying Weight Compression <span style=\"color: #729c1f; text-decoration-color: #729c1f\">━━━━━━━━━━━━━━━━━━━━━━━━━━━━━━━━━━━━━━━━━━━━━━━━━━━━━━━━</span> <span style=\"color: #800080; text-decoration-color: #800080\">100%</span> <span style=\"color: #0068b5; text-decoration-color: #0068b5\">40/40</span> • <span style=\"color: #0068b5; text-decoration-color: #0068b5\">0:00:00</span> • <span style=\"color: #0068b5; text-decoration-color: #0068b5\">0:00:00</span>\n</pre>\n"
                },
                "metadata": {}
              }
            ]
          }
        },
        "e614c748cd1d415ba202f1078c0b9287": {
          "model_module": "@jupyter-widgets/base",
          "model_name": "LayoutModel",
          "model_module_version": "1.2.0",
          "state": {
            "_model_module": "@jupyter-widgets/base",
            "_model_module_version": "1.2.0",
            "_model_name": "LayoutModel",
            "_view_count": null,
            "_view_module": "@jupyter-widgets/base",
            "_view_module_version": "1.2.0",
            "_view_name": "LayoutView",
            "align_content": null,
            "align_items": null,
            "align_self": null,
            "border": null,
            "bottom": null,
            "display": null,
            "flex": null,
            "flex_flow": null,
            "grid_area": null,
            "grid_auto_columns": null,
            "grid_auto_flow": null,
            "grid_auto_rows": null,
            "grid_column": null,
            "grid_gap": null,
            "grid_row": null,
            "grid_template_areas": null,
            "grid_template_columns": null,
            "grid_template_rows": null,
            "height": null,
            "justify_content": null,
            "justify_items": null,
            "left": null,
            "margin": null,
            "max_height": null,
            "max_width": null,
            "min_height": null,
            "min_width": null,
            "object_fit": null,
            "object_position": null,
            "order": null,
            "overflow": null,
            "overflow_x": null,
            "overflow_y": null,
            "padding": null,
            "right": null,
            "top": null,
            "visibility": null,
            "width": null
          }
        }
      }
    }
  },
  "cells": [
    {
      "cell_type": "code",
      "execution_count": null,
      "source": [
        "!pip install -U huggingface_hub transformers[torch] optimum[openvino,nncf] --quiet\r\n",
        "\r\n",
        "from transformers import AutoTokenizer, pipeline\r\n",
        "import numpy as np\r\n",
        "import matplotlib.pyplot as plt\r\n",
        "import pandas as pd"
      ],
      "outputs": [],
      "metadata": {
        "id": "GpwPO2hsxo0P",
        "colab": {
          "base_uri": "https://localhost:8080/"
        },
        "outputId": "c17f3f53-099d-4b88-d0ed-7c5dfd111709"
      }
    },
    {
      "cell_type": "code",
      "execution_count": null,
      "source": [
        "from optimum.intel import OVModelForSequenceClassification"
      ],
      "outputs": [],
      "metadata": {
        "id": "0EtvbRRKyR-r",
        "colab": {
          "base_uri": "https://localhost:8080/"
        },
        "outputId": "c10cf8fa-eee6-4fd9-974e-1458e52ab964"
      }
    },
    {
      "cell_type": "code",
      "execution_count": null,
      "source": [],
      "outputs": [],
      "metadata": {
        "id": "Yne662VnNAu6"
      }
    },
    {
      "cell_type": "code",
      "execution_count": null,
      "source": [
        "ov_model = OVModelForSequenceClassification.from_pretrained('/content/drive/MyDrive/Spam detection/Model', export=True, load_in_8bit=True)\r\n",
        "tokenizer = AutoTokenizer.from_pretrained(\"/content/drive/MyDrive/Spam detection/Model\")"
      ],
      "outputs": [],
      "metadata": {
        "colab": {
          "base_uri": "https://localhost:8080/",
          "height": 297,
          "referenced_widgets": [
            "d4d7e3946f1a4890a7f0b57eca768b36",
            "e614c748cd1d415ba202f1078c0b9287"
          ]
        },
        "id": "guK9k6qRyXPD",
        "outputId": "beab1a52-9bd4-4856-9c13-e837baec1db5"
      }
    },
    {
      "cell_type": "code",
      "execution_count": null,
      "source": [
        "!mkdir -p \"/content/drive/MyDrive/Spam detection/OV/Tokenizer\" \"/content/drive/MyDrive/Spam detection/OV/Model\""
      ],
      "outputs": [],
      "metadata": {
        "id": "JhkcCxz-0F47"
      }
    },
    {
      "cell_type": "code",
      "execution_count": null,
      "source": [
        "ov_model.save_pretrained(\"/content/drive/MyDrive/Spam detection/OV/Model\")\r\n",
        "tokenizer.save_pretrained(\"/content/drive/MyDrive/Spam detection/OV/Tokenizer\")"
      ],
      "outputs": [],
      "metadata": {
        "colab": {
          "base_uri": "https://localhost:8080/"
        },
        "id": "15PbVi03zweW",
        "outputId": "cb246d7e-6426-4cd5-81a4-10d1a02c7d0d"
      }
    },
    {
      "cell_type": "code",
      "execution_count": null,
      "source": [
        "pipe = pipeline(\"text-classification\", model=ov_model, tokenizer=tokenizer)"
      ],
      "outputs": [],
      "metadata": {
        "id": "aNVGcl7XMjrQ",
        "colab": {
          "base_uri": "https://localhost:8080/"
        },
        "outputId": "2157e7df-2804-4c3f-8ac7-7d3e4c1df674"
      }
    },
    {
      "cell_type": "code",
      "execution_count": null,
      "source": [
        "pipe([\"خرید تست کنکور\", \"راضی\"])"
      ],
      "outputs": [],
      "metadata": {
        "colab": {
          "base_uri": "https://localhost:8080/"
        },
        "id": "j17WT9dNz0H-",
        "outputId": "69787018-e447-403f-a81c-f003b946bed4"
      }
    }
  ]
}